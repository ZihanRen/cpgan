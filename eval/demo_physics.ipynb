{
 "cells": [
  {
   "cell_type": "markdown",
   "metadata": {},
   "source": [
    "#### Model relative permeability and module testing"
   ]
  },
  {
   "cell_type": "code",
   "execution_count": 1,
   "metadata": {},
   "outputs": [
    {
     "name": "stdout",
     "output_type": "stream",
     "text": [
      "------------------------------------------------------------\n",
      "Beginning SNOW Algorithm\n",
      "Converting supplied image (im) to boolean\n",
      "Peforming Distance Transform\n",
      "Applying Gaussian blur with sigma = 0.4\n",
      "Initial number of peaks:  249\n",
      "Peaks after trimming saddle points:  143\n",
      "Peaks after trimming nearby peaks:  143\n",
      "------------------------------------------------------------\n",
      "Extracting pore and throat information from image\n",
      "100%|██████████| 243/243 [00:01<00:00, 211.61it/s]\n"
     ]
    },
    {
     "name": "stderr",
     "output_type": "stream",
     "text": [
      "------------------------------------------------------------\n",
      "WARNING    : Inlets have non-zero volume, percolation curve won't start at 0. \n",
      "SOURCE     : openpnm.algorithms.OrdinaryPercolation.get_intrusion_data \n",
      "TIME STAMP : 2022-08-23 17:24:11,496\n",
      "------------------------------------------------------------\n"
     ]
    },
    {
     "name": "stdout",
     "output_type": "stream",
     "text": [
      "The irreducible water saturation is 0.3879320550020915\n",
      "The residual air saturation is 0\n",
      "The end point relative permeability of water is 1\n",
      "The end point relative permeability of air is 0.8446846000659517\n"
     ]
    }
   ],
   "source": [
    "import pnm\n",
    "import numpy as np\n",
    "import kr_model\n",
    "import matplotlib.pyplot as plt\n",
    "\n",
    "im = np.load('1.npy')\n",
    "data = pnm.pnm(im)\n",
    "data_model = kr_model.main(data)\n",
    "\n",
    "print('The irreducible water saturation is {}'.format(data_model['swir']))\n",
    "print('The residual air saturation is {}'.format(data_model['snwr']))\n",
    "print('The end point relative permeability of water is {}'.format(data_model['krw_o']))\n",
    "print('The end point relative permeability of air is {}'.format(data_model['krnw_o']))"
   ]
  },
  {
   "cell_type": "markdown",
   "metadata": {},
   "source": [
    "* analyze end point and irreducible saturation\n",
    "* plot relative permeability curves"
   ]
  },
  {
   "cell_type": "code",
   "execution_count": 2,
   "metadata": {},
   "outputs": [
    {
     "data": {
      "text/plain": [
       "<matplotlib.legend.Legend at 0x7f4314350100>"
      ]
     },
     "execution_count": 2,
     "metadata": {},
     "output_type": "execute_result"
    },
    {
     "data": {
      "image/png": "[encoded data removed]",
      "text/plain": [
       "<Figure size 432x288 with 1 Axes>"
      ]
     },
     "metadata": {
      "needs_background": "light"
     },
     "output_type": "display_data"
    }
   ],
   "source": [
    "#%% plot kr curves\n",
    "f = plt.figure()\n",
    "plt.plot(data_model['data.model']['snw_tnw'],data_model['data.model']['krnw'],label='krnw')\n",
    "plt.plot(data_model['data.model']['snw_tw'],data_model['data.model']['krw'],label='krw')\n",
    "plt.xlim([0,1])\n",
    "plt.ylim([0,1])\n",
    "plt.legend()"
   ]
  },
  {
   "cell_type": "code",
   "execution_count": 6,
   "metadata": {},
   "outputs": [
    {
     "data": {
      "text/html": [
       "<div>\n",
       "<style scoped>\n",
       "    .dataframe tbody tr th:only-of-type {\n",
       "        vertical-align: middle;\n",
       "    }\n",
       "\n",
       "    .dataframe tbody tr th {\n",
       "        vertical-align: top;\n",
       "    }\n",
       "\n",
       "    .dataframe thead th {\n",
       "        text-align: right;\n",
       "    }\n",
       "</style>\n",
       "<table border=\"1\" class=\"dataframe\">\n",
       "  <thead>\n",
       "    <tr style=\"text-align: right;\">\n",
       "      <th></th>\n",
       "      <th>snw_tnw</th>\n",
       "      <th>krnw</th>\n",
       "      <th>snw_tw</th>\n",
       "      <th>krw</th>\n",
       "    </tr>\n",
       "  </thead>\n",
       "  <tbody>\n",
       "    <tr>\n",
       "      <th>count</th>\n",
       "      <td>21.000000</td>\n",
       "      <td>21.000000</td>\n",
       "      <td>21.000000</td>\n",
       "      <td>21.000000</td>\n",
       "    </tr>\n",
       "    <tr>\n",
       "      <th>mean</th>\n",
       "      <td>0.306034</td>\n",
       "      <td>0.159096</td>\n",
       "      <td>0.306034</td>\n",
       "      <td>0.169705</td>\n",
       "    </tr>\n",
       "    <tr>\n",
       "      <th>std</th>\n",
       "      <td>0.189889</td>\n",
       "      <td>0.244382</td>\n",
       "      <td>0.189889</td>\n",
       "      <td>0.281680</td>\n",
       "    </tr>\n",
       "    <tr>\n",
       "      <th>min</th>\n",
       "      <td>0.000000</td>\n",
       "      <td>0.000000</td>\n",
       "      <td>0.000000</td>\n",
       "      <td>0.000000</td>\n",
       "    </tr>\n",
       "    <tr>\n",
       "      <th>25%</th>\n",
       "      <td>0.153017</td>\n",
       "      <td>0.001056</td>\n",
       "      <td>0.153017</td>\n",
       "      <td>0.000438</td>\n",
       "    </tr>\n",
       "    <tr>\n",
       "      <th>50%</th>\n",
       "      <td>0.306034</td>\n",
       "      <td>0.029863</td>\n",
       "      <td>0.306034</td>\n",
       "      <td>0.020939</td>\n",
       "    </tr>\n",
       "    <tr>\n",
       "      <th>75%</th>\n",
       "      <td>0.459051</td>\n",
       "      <td>0.210981</td>\n",
       "      <td>0.459051</td>\n",
       "      <td>0.200970</td>\n",
       "    </tr>\n",
       "    <tr>\n",
       "      <th>max</th>\n",
       "      <td>0.612068</td>\n",
       "      <td>0.844685</td>\n",
       "      <td>0.612068</td>\n",
       "      <td>1.000000</td>\n",
       "    </tr>\n",
       "  </tbody>\n",
       "</table>\n",
       "</div>"
      ],
      "text/plain": [
       "         snw_tnw       krnw     snw_tw        krw\n",
       "count  21.000000  21.000000  21.000000  21.000000\n",
       "mean    0.306034   0.159096   0.306034   0.169705\n",
       "std     0.189889   0.244382   0.189889   0.281680\n",
       "min     0.000000   0.000000   0.000000   0.000000\n",
       "25%     0.153017   0.001056   0.153017   0.000438\n",
       "50%     0.306034   0.029863   0.306034   0.020939\n",
       "75%     0.459051   0.210981   0.459051   0.200970\n",
       "max     0.612068   0.844685   0.612068   1.000000"
      ]
     },
     "execution_count": 6,
     "metadata": {},
     "output_type": "execute_result"
    }
   ],
   "source": [
    "data_model['data.model'].describe()"
   ]
  },
  {
   "cell_type": "code",
   "execution_count": 8,
   "metadata": {},
   "outputs": [
    {
     "data": {
      "text/plain": [
       "0.8446846000659517"
      ]
     },
     "execution_count": 8,
     "metadata": {},
     "output_type": "execute_result"
    }
   ],
   "source": [
    "data_model['data.model']['krnw'].max()"
   ]
  },
  {
   "cell_type": "code",
   "execution_count": null,
   "metadata": {},
   "outputs": [],
   "source": []
  }
 ],
 "metadata": {
  "kernelspec": {
   "display_name": "Python 3.9.12 ('porousgan')",
   "language": "python",
   "name": "python3"
  },
  "language_info": {
   "codemirror_mode": {
    "name": "ipython",
    "version": 3
   },
   "file_extension": ".py",
   "mimetype": "text/x-python",
   "name": "python",
   "nbconvert_exporter": "python",
   "pygments_lexer": "ipython3",
   "version": "3.9.12"
  },
  "orig_nbformat": 4,
  "vscode": {
   "interpreter": {
    "hash": "109c18d9c3120fc7f230d79f59320cc753c0d56ad2f1d63a1434ec7da0fa575a"
   }
  }
 },
 "nbformat": 4,
 "nbformat_minor": 2
}
