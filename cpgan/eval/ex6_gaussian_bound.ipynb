{
 "cells": [
  {
   "cell_type": "code",
   "execution_count": 2,
   "metadata": {},
   "outputs": [
    {
     "data": {
      "text/plain": [
       "Generator(\n",
       "  (linear): Linear(in_features=200, out_features=131072, bias=True)\n",
       "  (batchnorm1d): BatchNorm1d(131072, eps=1e-05, momentum=0.1, affine=True, track_running_stats=True)\n",
       "  (lrelu): LeakyReLU(negative_slope=0.2)\n",
       "  (cnnt1): Sequential(\n",
       "    (0): ConvTranspose3d(256, 128, kernel_size=(4, 4, 4), stride=(2, 2, 2), padding=(1, 1, 1))\n",
       "    (1): BatchNorm3d(128, eps=1e-05, momentum=0.1, affine=True, track_running_stats=True)\n",
       "    (2): LeakyReLU(negative_slope=0.2)\n",
       "  )\n",
       "  (cnnt2): Sequential(\n",
       "    (0): ConvTranspose3d(128, 64, kernel_size=(4, 4, 4), stride=(2, 2, 2), padding=(1, 1, 1))\n",
       "    (1): BatchNorm3d(64, eps=1e-05, momentum=0.1, affine=True, track_running_stats=True)\n",
       "    (2): LeakyReLU(negative_slope=0.2)\n",
       "  )\n",
       "  (cnnt3): Sequential(\n",
       "    (0): ConvTranspose3d(64, 32, kernel_size=(4, 4, 4), stride=(2, 2, 2), padding=(1, 1, 1))\n",
       "    (1): BatchNorm3d(32, eps=1e-05, momentum=0.1, affine=True, track_running_stats=True)\n",
       "    (2): LeakyReLU(negative_slope=0.2)\n",
       "  )\n",
       "  (cnnt4): Sequential(\n",
       "    (0): ConvTranspose3d(32, 1, kernel_size=(4, 4, 4), stride=(2, 2, 2), padding=(1, 1, 1))\n",
       "    (1): Tanh()\n",
       "  )\n",
       ")"
      ]
     },
     "execution_count": 2,
     "metadata": {},
     "output_type": "execute_result"
    }
   ],
   "source": [
    "import torch\n",
    "import os\n",
    "import matplotlib.pyplot as plt\n",
    "import numpy as np\n",
    "from cpgan import init_yaml\n",
    "from cpgan.eval.models_lib.ex6 import generator\n",
    "import pandas as pd\n",
    "from cpgan.ooppnm import img_process\n",
    "from cpgan.ooppnm import pnm_sim\n",
    "from cpgan.ooppnm import pnm_sim_old\n",
    "import seaborn as sns \n",
    "\n",
    "\n",
    "import random\n",
    "import porespy as ps\n",
    "# random.seed(10)\n",
    "# np.random.seed(10)\n",
    "\n",
    "def kr_simulation(img_input,sim_num=100):\n",
    "    data_pnm = pnm_sim.Pnm_sim(im=img_input)\n",
    "    data_pnm.network_extract()\n",
    "    data_pnm.add_boundary_pn()\n",
    "    data_pnm.init_physics()\n",
    "    data_pnm.invasion_percolation()\n",
    "    df_kr = data_pnm.kr_simulation(Snwp_num=sim_num)\n",
    "    data_pnm.close_ws()\n",
    "    return df_kr\n",
    "\n",
    "def kabs_sim(img):\n",
    "    data_pnm = pnm_sim_old.Pnm_sim(im=img)\n",
    "    data_pnm.network_extract()\n",
    "    if data_pnm.error == 1:\n",
    "        return None\n",
    "    data_pnm.init_physics()\n",
    "    kabs = data_pnm.get_absolute_perm()\n",
    "    data_pnm.close_ws()\n",
    "    return kabs, data_pnm.data_tmp\n",
    "\n",
    "def imgshow(im,sample_idx,z_idx):\n",
    "    f = plt.figure()\n",
    "    plt.imshow(im[sample_idx,0,z_idx,::])\n",
    "    plt.show()\n",
    "\n",
    "def plt_hist(fake,real,range_input,xlabel):\n",
    "    # range input should be list\n",
    "    f = plt.figure()\n",
    "    plt.hist(real,range=range_input,density=True,bins=20,alpha=0.4,edgecolor='black',label='Original')\n",
    "    plt.hist(fake,range=range_input,density=True,bins=20,alpha=0.4,edgecolor='black',label='Synthetic')\n",
    "    plt.xlabel(xlabel)\n",
    "    plt.legend()\n",
    "    plt.show()\n",
    "\n",
    "def plt_scatter(fake,real,range_input,xlabel):\n",
    "    # range input should be list\n",
    "    f = plt.figure()\n",
    "    plt.scatter(real,fake)\n",
    "    plt.xlim(range_input)\n",
    "    plt.ylim(range_input)\n",
    "    plt.xlabel(\"Original \"+xlabel)\n",
    "    plt.ylabel(\"Synthetic \"+xlabel)\n",
    "    plt.show()\n",
    "\n",
    "def box_plot(fake,real,ylabel):\n",
    "    phi_box = [fake, real]\n",
    "    fig = plt.figure(figsize=(10,7))\n",
    "    ax = fig.add_axes([0, 0, 1, 1])\n",
    "\n",
    "    bp = ax.boxplot(\n",
    "        phi_box,\n",
    "        boxprops=dict(linestyle='-', linewidth=2),\n",
    "        whiskerprops=dict(linestyle='-', linewidth=2), \n",
    "        medianprops=dict(linestyle='-', linewidth=2), \n",
    "        capprops=dict(linestyle='-', linewidth=2)\n",
    "            )\n",
    "\n",
    "    ax.set_xticks([1,2],['Synthetic','Original'])\n",
    "    ax.set_ylabel(ylabel)\n",
    "    plt.show()\n",
    "\n",
    "ex = 6\n",
    "epoch = 20\n",
    "\n",
    "# load model and features\n",
    "f_yaml = init_yaml.yaml_f\n",
    "gen_path = os.path.join(f_yaml['model'],\"ex{}/cganex{}-{}.pth\".format(ex,ex,epoch))\n",
    "feature_path = os.path.join(f_yaml['feature_path'],'features.csv')\n",
    "img_path = f_yaml['img_path']['img_chunk']\n",
    "\n",
    "df = pd.read_csv(feature_path)\n",
    "gen = generator.Generator(z_dim=200)\n",
    "gen.load_state_dict(torch.load(gen_path,map_location=torch.device('cpu')))\n",
    "gen.eval()"
   ]
  },
  {
   "cell_type": "markdown",
   "metadata": {},
   "source": [
    "#### Interpolation between two gaussian vectors"
   ]
  },
  {
   "cell_type": "code",
   "execution_count": 3,
   "metadata": {},
   "outputs": [
    {
     "name": "stdout",
     "output_type": "stream",
     "text": [
      "------------------------------------------------------------\n",
      "Finding surface area of each region\n"
     ]
    },
    {
     "name": "stderr",
     "output_type": "stream",
     "text": [
      "  0%|          | 0/1 [00:00<?, ?it/s]/journel/s0/zur74/venv/pnm-old/lib/python3.9/site-packages/porespy/tools/__funcs__.py:825: FutureWarning: marching_cubes_lewiner is deprecated in favor of marching_cubes. marching_cubes_lewiner will be removed in version 0.19\n",
      "  verts, faces, norm, val = marching_cubes_lewiner(padded_mask)\n",
      "100%|██████████| 1/1 [00:00<00:00,  5.13it/s]\n"
     ]
    },
    {
     "name": "stdout",
     "output_type": "stream",
     "text": [
      "------------------------------------------------------------\n",
      "Finding surface area of each region\n"
     ]
    },
    {
     "name": "stderr",
     "output_type": "stream",
     "text": [
      "100%|██████████| 1/1 [00:00<00:00,  6.63it/s]\n"
     ]
    },
    {
     "name": "stdout",
     "output_type": "stream",
     "text": [
      "------------------------------------------------------------\n",
      "Beginning SNOW Algorithm\n",
      "Converting supplied image (im) to boolean\n",
      "Peforming Distance Transform\n",
      "Applying Gaussian blur with sigma = 0.4\n",
      "Initial number of peaks:  296\n",
      "Peaks after trimming saddle points:  155\n",
      "Peaks after trimming nearby peaks:  155\n",
      "------------------------------------------------------------\n",
      "Extracting pore and throat information from image\n",
      "100%|██████████| 272/272 [00:01<00:00, 203.10it/s]\n",
      "------------------------------------------------------------\n",
      "Beginning SNOW Algorithm\n",
      "Converting supplied image (im) to boolean\n",
      "Peforming Distance Transform\n",
      "Applying Gaussian blur with sigma = 0.4\n",
      "Initial number of peaks:  283\n",
      "Peaks after trimming saddle points:  121\n",
      "Peaks after trimming nearby peaks:  121\n",
      "------------------------------------------------------------\n",
      "Extracting pore and throat information from image\n",
      "100%|██████████| 222/222 [00:00<00:00, 304.31it/s]\n"
     ]
    },
    {
     "ename": "AttributeError",
     "evalue": "module 'porespy.metrics' has no attribute 'two_point_correlation'",
     "output_type": "error",
     "traceback": [
      "\u001b[0;31m---------------------------------------------------------------------------\u001b[0m",
      "\u001b[0;31mAttributeError\u001b[0m                            Traceback (most recent call last)",
      "Cell \u001b[0;32mIn[3], line 24\u001b[0m\n\u001b[1;32m     21\u001b[0m kabs1, other \u001b[39m=\u001b[39m kabs_sim(f_img1[\u001b[39m0\u001b[39m])\n\u001b[1;32m     22\u001b[0m kabs2, other \u001b[39m=\u001b[39m kabs_sim(f_img2[\u001b[39m0\u001b[39m])\n\u001b[0;32m---> 24\u001b[0m data1 \u001b[39m=\u001b[39m ps\u001b[39m.\u001b[39;49mmetrics\u001b[39m.\u001b[39;49mtwo_point_correlation(f_img1[\u001b[39m0\u001b[39m],bins\u001b[39m=\u001b[39m\u001b[39m50\u001b[39m)\n\u001b[1;32m     25\u001b[0m data2 \u001b[39m=\u001b[39m ps\u001b[39m.\u001b[39mmetrics\u001b[39m.\u001b[39mtwo_point_correlation(f_img2[\u001b[39m0\u001b[39m],bins\u001b[39m=\u001b[39m\u001b[39m50\u001b[39m)\n\u001b[1;32m     27\u001b[0m fig, ax \u001b[39m=\u001b[39m plt\u001b[39m.\u001b[39msubplots(\u001b[39m1\u001b[39m, \u001b[39m1\u001b[39m, figsize\u001b[39m=\u001b[39m[\u001b[39m6\u001b[39m, \u001b[39m6\u001b[39m])\n",
      "\u001b[0;31mAttributeError\u001b[0m: module 'porespy.metrics' has no attribute 'two_point_correlation'"
     ]
    }
   ],
   "source": [
    "# torch.manual_seed(15): reach the biggest discrepancy betweeo 2 porosity\n",
    "torch.manual_seed(15)\n",
    "\n",
    "img_prc = img_process.Image_process()\n",
    "\n",
    "noise1 = torch.randn(1,200)\n",
    "noise2 = torch.randn(1,200)\n",
    "\n",
    "f_img1 = img_prc.clean_img(gen(noise1))\n",
    "f_img2 = img_prc.clean_img(gen(noise2))\n",
    "\n",
    "phi1 = img_prc.phi(f_img1)\n",
    "phi2 = img_prc.phi(f_img2)\n",
    "\n",
    "eul1 = img_prc.eul(f_img1[0])\n",
    "eul2 = img_prc.eul(f_img2[0])\n",
    "\n",
    "spec1 = img_prc.spec_suf_area(f_img1[0])\n",
    "spec2 = img_prc.spec_suf_area(f_img2[0])\n",
    "\n",
    "kabs1, other = kabs_sim(f_img1[0])\n",
    "kabs2, other = kabs_sim(f_img2[0])\n",
    "\n",
    "data1 = ps.metrics.two_point_correlation(f_img1[0],bins=50)\n",
    "data2 = ps.metrics.two_point_correlation(f_img2[0],bins=50)\n",
    "\n",
    "fig, ax = plt.subplots(1, 1, figsize=[6, 6])\n",
    "ax.plot(data1.distance, data1.probability, 'r.',label='fake1')\n",
    "ax.plot(data2.distance, data2.probability, 'b.',label='fake2')\n",
    "\n",
    "ax.set_xlabel(\"distance\")\n",
    "ax.set_ylabel(\"two point correlation function\")"
   ]
  },
  {
   "cell_type": "markdown",
   "metadata": {},
   "source": [
    "#### Linear Interpolation between two noise vectors"
   ]
  },
  {
   "cell_type": "code",
   "execution_count": 4,
   "metadata": {},
   "outputs": [],
   "source": [
    "n_interpolation = 10\n",
    "percent_first_noise = np.linspace(0, 1, n_interpolation)[:, None]\n",
    "interpolation_noise = noise1 * percent_first_noise + noise2 * (1 - percent_first_noise)\n",
    "img_interp = gen(interpolation_noise.float())\n",
    "img_interp = img_prc.clean_img(img_interp)"
   ]
  },
  {
   "cell_type": "code",
   "execution_count": 5,
   "metadata": {},
   "outputs": [
    {
     "name": "stdout",
     "output_type": "stream",
     "text": [
      "------------------------------------------------------------\n",
      "Finding surface area of each region\n"
     ]
    },
    {
     "name": "stderr",
     "output_type": "stream",
     "text": [
      "  0%|          | 0/1 [00:00<?, ?it/s]/journel/s0/zur74/venv/pnm-old/lib/python3.9/site-packages/porespy/tools/__funcs__.py:825: FutureWarning: marching_cubes_lewiner is deprecated in favor of marching_cubes. marching_cubes_lewiner will be removed in version 0.19\n",
      "  verts, faces, norm, val = marching_cubes_lewiner(padded_mask)\n",
      "100%|██████████| 1/1 [00:00<00:00,  6.51it/s]"
     ]
    },
    {
     "name": "stdout",
     "output_type": "stream",
     "text": [
      "------------------------------------------------------------\n",
      "Beginning SNOW Algorithm\n",
      "Converting supplied image (im) to boolean\n",
      "Peforming Distance Transform\n"
     ]
    },
    {
     "name": "stderr",
     "output_type": "stream",
     "text": [
      "\n"
     ]
    },
    {
     "name": "stdout",
     "output_type": "stream",
     "text": [
      "Applying Gaussian blur with sigma = 0.4\n",
      "Initial number of peaks:  283\n",
      "Peaks after trimming saddle points:  121\n",
      "Peaks after trimming nearby peaks:  121\n",
      "------------------------------------------------------------\n",
      "Extracting pore and throat information from image\n",
      "100%|██████████| 222/222 [00:00<00:00, 308.26it/s]\n"
     ]
    },
    {
     "ename": "ValueError",
     "evalue": "not enough values to unpack (expected 3, got 2)",
     "output_type": "error",
     "traceback": [
      "\u001b[0;31m---------------------------------------------------------------------------\u001b[0m",
      "\u001b[0;31mValueError\u001b[0m                                Traceback (most recent call last)",
      "Cell \u001b[0;32mIn[5], line 11\u001b[0m\n\u001b[1;32m      9\u001b[0m eul_interp\u001b[39m.\u001b[39mappend(img_prc\u001b[39m.\u001b[39meul(img_interp[i]))\n\u001b[1;32m     10\u001b[0m spec_interp\u001b[39m.\u001b[39mappend(img_prc\u001b[39m.\u001b[39mspec_suf_area(img_interp[i]))\n\u001b[0;32m---> 11\u001b[0m psd_tmp, tsd_tmp, kabs_tmp \u001b[39m=\u001b[39m kabs_sim(img_interp[i])\n\u001b[1;32m     12\u001b[0m kabs_interp\u001b[39m.\u001b[39mappend(kabs_tmp)\n\u001b[1;32m     13\u001b[0m psd_interp\u001b[39m.\u001b[39mappend(psd_tmp)\n",
      "\u001b[0;31mValueError\u001b[0m: not enough values to unpack (expected 3, got 2)"
     ]
    }
   ],
   "source": [
    "phi_interp = []\n",
    "eul_interp = []\n",
    "spec_interp = []\n",
    "kabs_interp = []\n",
    "psd_interp = []\n",
    "tsd_interp = []\n",
    "for i in range(n_interpolation):\n",
    "    phi_interp.append(img_prc.phi(img_interp[i]))\n",
    "    eul_interp.append(img_prc.eul(img_interp[i]))\n",
    "    spec_interp.append(img_prc.spec_suf_area(img_interp[i]))\n",
    "    psd_tmp, tsd_tmp, kabs_tmp = kabs_sim(img_interp[i])\n",
    "    kabs_interp.append(kabs_tmp)\n",
    "    psd_interp.append(psd_tmp)\n",
    "    tsd_interp.append(tsd_tmp)"
   ]
  },
  {
   "cell_type": "code",
   "execution_count": 6,
   "metadata": {},
   "outputs": [
    {
     "ename": "NameError",
     "evalue": "name 'psd1' is not defined",
     "output_type": "error",
     "traceback": [
      "\u001b[0;31m---------------------------------------------------------------------------\u001b[0m",
      "\u001b[0;31mNameError\u001b[0m                                 Traceback (most recent call last)",
      "Cell \u001b[0;32mIn[6], line 30\u001b[0m\n\u001b[1;32m     27\u001b[0m ax\u001b[39m.\u001b[39mlegend()\n\u001b[1;32m     29\u001b[0m f, ax \u001b[39m=\u001b[39m plt\u001b[39m.\u001b[39msubplots()\n\u001b[0;32m---> 30\u001b[0m ax\u001b[39m.\u001b[39mscatter([\u001b[39m1\u001b[39m],[psd1],\u001b[39m100\u001b[39m,c\u001b[39m=\u001b[39m\u001b[39m'\u001b[39m\u001b[39mb\u001b[39m\u001b[39m'\u001b[39m,marker\u001b[39m=\u001b[39m\u001b[39m'\u001b[39m\u001b[39m^\u001b[39m\u001b[39m'\u001b[39m,label\u001b[39m=\u001b[39m\u001b[39m'\u001b[39m\u001b[39mz1\u001b[39m\u001b[39m'\u001b[39m)\n\u001b[1;32m     31\u001b[0m ax\u001b[39m.\u001b[39mscatter([\u001b[39m1\u001b[39m],[psd2],\u001b[39m100\u001b[39m,c\u001b[39m=\u001b[39m\u001b[39m'\u001b[39m\u001b[39mg\u001b[39m\u001b[39m'\u001b[39m,marker\u001b[39m=\u001b[39m\u001b[39m\"\u001b[39m\u001b[39m^\u001b[39m\u001b[39m\"\u001b[39m,label\u001b[39m=\u001b[39m\u001b[39m'\u001b[39m\u001b[39mz2\u001b[39m\u001b[39m'\u001b[39m)\n\u001b[1;32m     32\u001b[0m ax\u001b[39m.\u001b[39mscatter(np\u001b[39m.\u001b[39mones(\u001b[39mlen\u001b[39m(psd_interp))\u001b[39m.\u001b[39mtolist(),psd_interp,marker\u001b[39m=\u001b[39m\u001b[39m'\u001b[39m\u001b[39ms\u001b[39m\u001b[39m'\u001b[39m,c\u001b[39m=\u001b[39m\u001b[39m'\u001b[39m\u001b[39mr\u001b[39m\u001b[39m'\u001b[39m,label\u001b[39m=\u001b[39m\u001b[39m'\u001b[39m\u001b[39minterpolate\u001b[39m\u001b[39m'\u001b[39m,alpha\u001b[39m=\u001b[39m\u001b[39m0.5\u001b[39m)\n",
      "\u001b[0;31mNameError\u001b[0m: name 'psd1' is not defined"
     ]
    },
    {
     "data": {
      "image/png": "[encoded data removed]",
      "text/plain": [
       "<Figure size 640x480 with 1 Axes>"
      ]
     },
     "metadata": {},
     "output_type": "display_data"
    },
    {
     "data": {
      "image/png": "[encoded data removed]",
      "text/plain": [
       "<Figure size 640x480 with 1 Axes>"
      ]
     },
     "metadata": {},
     "output_type": "display_data"
    },
    {
     "data": {
      "image/png": "[encoded data removed]",
      "text/plain": [
       "<Figure size 640x480 with 1 Axes>"
      ]
     },
     "metadata": {},
     "output_type": "display_data"
    },
    {
     "data": {
      "image/png": "[encoded data removed]",
      "text/plain": [
       "<Figure size 640x480 with 1 Axes>"
      ]
     },
     "metadata": {},
     "output_type": "display_data"
    },
    {
     "data": {
      "image/png": "[encoded data removed]",
      "text/plain": [
       "<Figure size 640x480 with 1 Axes>"
      ]
     },
     "metadata": {},
     "output_type": "display_data"
    }
   ],
   "source": [
    "f, ax = plt.subplots()\n",
    "ax.scatter([1],[phi1],100,c='b',marker='^',label='z1')\n",
    "ax.scatter([1],[phi2],100,c='g',marker=\"^\",label='z2')\n",
    "ax.scatter(np.ones(len(phi_interp)).tolist(),phi_interp,marker='s',c='r',label='interpolate',alpha=0.5)\n",
    "ax.set_ylabel(\"Porosity\")\n",
    "ax.legend()\n",
    "\n",
    "f, ax = plt.subplots()\n",
    "ax.scatter([1],[eul1],100,c='b',marker='^',label='z1')\n",
    "ax.scatter([1],[eul2],100,c='g',marker=\"^\",label='z2')\n",
    "ax.scatter(np.ones(len(eul_interp)).tolist(),eul_interp,marker='s',c='r',label='interpolate',alpha=0.5)\n",
    "ax.set_ylabel(\"Euler Characteristics\")\n",
    "ax.legend()\n",
    "\n",
    "f, ax = plt.subplots()\n",
    "ax.scatter([1],[spec1],100,c='b',marker='^',label='z1')\n",
    "ax.scatter([1],[spec2],100,c='g',marker=\"^\",label='z2')\n",
    "ax.scatter(np.ones(len(spec_interp)).tolist(),spec_interp,marker='s',c='r',label='interpolate',alpha=0.5)\n",
    "ax.set_ylabel(\"Specfic surface area\")\n",
    "ax.legend()\n",
    "\n",
    "f, ax = plt.subplots()\n",
    "ax.scatter([1],[kabs1],100,c='b',marker='^',label='z1')\n",
    "ax.scatter([1],[kabs2],100,c='g',marker=\"^\",label='z2')\n",
    "ax.scatter(np.ones(len(kabs_interp)).tolist(),kabs_interp,marker='s',c='r',label='interpolate',alpha=0.5)\n",
    "ax.set_ylabel(\"Absolute Permeability\")\n",
    "ax.legend()\n",
    "\n",
    "f, ax = plt.subplots()\n",
    "ax.scatter([1],[psd1],100,c='b',marker='^',label='z1')\n",
    "ax.scatter([1],[psd2],100,c='g',marker=\"^\",label='z2')\n",
    "ax.scatter(np.ones(len(psd_interp)).tolist(),psd_interp,marker='s',c='r',label='interpolate',alpha=0.5)\n",
    "ax.set_ylabel(\"Pore size distribution\")\n",
    "ax.legend()\n",
    "\n",
    "f, ax = plt.subplots()\n",
    "ax.scatter([1],[tsd1],100,c='b',marker='^',label='z1')\n",
    "ax.scatter([1],[tsd2],100,c='g',marker=\"^\",label='z2')\n",
    "ax.scatter(np.ones(len(tsd_interp)).tolist(),tsd_interp,marker='s',c='r',label='interpolate',alpha=0.5)\n",
    "ax.set_ylabel(\"Throat size distribution\")\n",
    "ax.legend()"
   ]
  },
  {
   "cell_type": "markdown",
   "metadata": {},
   "source": [
    "#### Gaussian boundary of 2-point correlation"
   ]
  },
  {
   "cell_type": "code",
   "execution_count": null,
   "metadata": {},
   "outputs": [],
   "source": [
    "data_corr = []\n",
    "for i in range(n_interpolation):\n",
    "    data_corr.append( ps.metrics.two_point_correlation(img_interp[i],bins=50) )\n",
    "\n",
    "f = plt.figure()\n",
    "for i in range(n_interpolation):\n",
    "    plt.plot(data_corr[i].distance,data_corr[i].probability,c='r')\n",
    "plt.plot(data1.distance, data1.probability, 'b.',label='gaussian boundary')\n",
    "plt.plot(data2.distance, data2.probability, 'b.')\n",
    "plt.legend()"
   ]
  },
  {
   "cell_type": "markdown",
   "metadata": {},
   "source": [
    "#### Linear interpolation of relative perm??"
   ]
  },
  {
   "cell_type": "code",
   "execution_count": null,
   "metadata": {},
   "outputs": [],
   "source": [
    "dfkr1 = kr_simulation(f_img1[0])\n",
    "dfkr2 = kr_simulation(f_img2[0])\n",
    "\n",
    "data_kr_int = []\n",
    "for i in range(n_interpolation):\n",
    "    data_kr_int.append( kr_simulation(img_interp[i]) )"
   ]
  },
  {
   "cell_type": "code",
   "execution_count": null,
   "metadata": {},
   "outputs": [],
   "source": [
    "f = plt.figure()\n",
    "for i in range(n_interpolation):\n",
    "    plt.plot(data_kr_int[i]['snwp'],data_kr_int[i]['krnw'],'g.')\n",
    "plt.plot(dfkr1['snwp'], dfkr1['krnw'],'r' ,label=\"gaussain boundary z1\")\n",
    "plt.plot(dfkr2['snwp'], dfkr2['krnw'],'b', label=\"gaussain boundary z2\")\n",
    "plt.legend()\n",
    "plt.show()"
   ]
  },
  {
   "cell_type": "markdown",
   "metadata": {},
   "source": [
    "#### Workflow procedure\n",
    "* create a workflow to forcibly control the distribution of absolute perm. Then observe the trend of relative permeability;\n",
    "* create a workflow to forcibly control the euler characteristics. Then observe the trend of relative permeability;\n",
    "* generate 100 images. cluster them into different group of variables. observe the trend of relative permeability;"
   ]
  },
  {
   "cell_type": "code",
   "execution_count": null,
   "metadata": {},
   "outputs": [],
   "source": [
    "z = torch.randn(10,200)\n",
    "k_list = []\n",
    "f_image = gen(z)\n",
    "f_image = img_filter(tensor_process(f_image))\n",
    "\n",
    "def kabs_sim(img):\n",
    "    data_pnm = pnm_sim.Pnm_sim(im=img)\n",
    "    _, _ = data_pnm.network_extract()\n",
    "    data_pnm.add_boundary_pn()\n",
    "    kabs = data_pnm.cal_abs_perm()\n",
    "    data_pnm.close_ws()\n",
    "    return kabs\n",
    "\n",
    "for i in range(len(z)):\n",
    "    k_list.append(kabs_sim(f_image[i,0,::]))"
   ]
  },
  {
   "cell_type": "code",
   "execution_count": null,
   "metadata": {},
   "outputs": [],
   "source": [
    "# find the min and max from a list\n",
    "max_index = k_list.index(max(k_list))\n",
    "min_index = k_list.index(min(k_list))\n",
    "img1 = f_image[min_index][0]\n",
    "img2 = f_image[max_index][0]\n",
    "dfkr1 = kr_simulation(img1)\n",
    "dfkr2 = kr_simulation(img2)\n",
    "\n",
    "print(max(k_list))\n",
    "print(min(k_list))\n"
   ]
  },
  {
   "cell_type": "code",
   "execution_count": null,
   "metadata": {},
   "outputs": [],
   "source": [
    "data_kr_int = []\n",
    "for i in range(len(f_image)):\n",
    "    data_kr_int.append( kr_simulation( f_image[i,0,::]) )"
   ]
  },
  {
   "cell_type": "markdown",
   "metadata": {},
   "source": [
    "#### constrain of absolute perm\n",
    "\n",
    "* constrain of $k_{abs}$ actually gives a good constrain of kr\n",
    "* what if we narrow the search space of kabs. Is $k_r$ still sensitive to change of $k_{abs}$?"
   ]
  },
  {
   "cell_type": "code",
   "execution_count": null,
   "metadata": {},
   "outputs": [],
   "source": [
    "f = plt.figure()\n",
    "for i in range(len(f_image)):\n",
    "    plt.plot(data_kr_int[i]['snwp'],data_kr_int[i]['krnw'],'g.')\n",
    "plt.plot(dfkr1['snwp'], dfkr1['krnw'],'r' ,label=\"gaussain boundary z1\")\n",
    "plt.plot(dfkr2['snwp'], dfkr2['krnw'],'b', label=\"gaussain boundary z2\")\n",
    "plt.legend()\n",
    "plt.show()"
   ]
  },
  {
   "cell_type": "code",
   "execution_count": null,
   "metadata": {},
   "outputs": [],
   "source": [
    "# sort your list with only \n",
    "from cpgan.eval.util import z_perturb\n",
    "img_prc = img_process.Image_process()\n",
    "def kabs_sim(img):\n",
    "    data_pnm = pnm_sim.Pnm_sim(im=img)\n",
    "    _, _ = data_pnm.network_extract()\n",
    "    data_pnm.add_boundary_pn()\n",
    "    kabs = data_pnm.cal_abs_perm()\n",
    "    data_pnm.close_ws()\n",
    "    return kabs\n",
    "\n",
    "target_k = [i for i in range(100,150,5)]\n",
    "pred_k = []\n",
    "z_list = []"
   ]
  },
  {
   "cell_type": "code",
   "execution_count": null,
   "metadata": {},
   "outputs": [],
   "source": [
    "for i in target_k:\n",
    "    opt = z_perturb.Z_perturb(gen,kabs_sim,i)\n",
    "    z_t,_,k_t = opt.optimize(100,10,eta=0.5)\n",
    "    pred_k.append(k_t)\n",
    "    z_list.append(z_t)"
   ]
  },
  {
   "cell_type": "code",
   "execution_count": null,
   "metadata": {},
   "outputs": [],
   "source": [
    "## configure sorted z list\n",
    "sort_idx = sorted(range(len(pred_k)),key=lambda idx: pred_k[idx])\n",
    "z_s = [z_list[i] for i in sort_idx]\n",
    "img1 = img_filter( tensor_process(gen(z_s[0])) )[0,0,::]\n",
    "img2 = img_filter( tensor_process(gen(z_s[-1])) )[0,0,::]\n",
    "\n",
    "dfkr1 = kr_simulation(img1)\n",
    "dfkr2 = kr_simulation(img2)\n",
    "\n",
    "data_kr_int = []\n",
    "for i in range(1,len(z_s)-1):\n",
    "    f_image = img_filter( tensor_process(gen(z_s[i])) )[0,0,::]\n",
    "    data_kr_int.append( kr_simulation( f_image ) )"
   ]
  },
  {
   "cell_type": "code",
   "execution_count": null,
   "metadata": {},
   "outputs": [],
   "source": [
    "f = plt.figure()\n",
    "for i in range(len(z_s)-2):\n",
    "    plt.plot(data_kr_int[i]['snwp'],data_kr_int[i]['krnw'],'g.')\n",
    "plt.plot(dfkr1['snwp'], dfkr1['krnw'],'r' ,label=\"gaussain boundary z1\")\n",
    "plt.plot(dfkr2['snwp'], dfkr2['krnw'],'b', label=\"gaussain boundary z2\")\n",
    "plt.legend()\n",
    "plt.show()"
   ]
  },
  {
   "cell_type": "code",
   "execution_count": null,
   "metadata": {},
   "outputs": [],
   "source": [
    "## why the absolute perm can't constrain the boundary?\n",
    "print(img_prc.phi(img1))\n",
    "print(img_prc.phi(img2))\n",
    "print(img_prc.eul(img1))\n",
    "print(img_prc.eul(img2))"
   ]
  },
  {
   "cell_type": "markdown",
   "metadata": {},
   "source": [
    "#### now try to constrain multiple factors at the same time"
   ]
  },
  {
   "cell_type": "code",
   "execution_count": null,
   "metadata": {},
   "outputs": [],
   "source": [
    "img_prc = img_process.Image_process()\n",
    "\n",
    "def multivar_opt(phi_target,eul_target,eta=0.5,epoch=100):\n",
    "\n",
    "    def kabs_sim(img):\n",
    "        data_pnm = pnm_sim.Pnm_sim(im=img)\n",
    "        _, _ = data_pnm.network_extract()\n",
    "        data_pnm.add_boundary_pn()\n",
    "        kabs = data_pnm.cal_abs_perm()\n",
    "        data_pnm.close_ws()\n",
    "        return kabs\n",
    "\n",
    "    def tensor_process(image_tensor):\n",
    "\n",
    "        image_unflat = image_tensor.detach().cpu()\n",
    "        image_numpy = image_unflat.numpy()\n",
    "\n",
    "        return image_numpy>0.5\n",
    "\n",
    "    def img_phy_qual(im):\n",
    "        eul_im = img_prc.eul(im)\n",
    "        if abs(eul_im)<500:\n",
    "            return True\n",
    "        else:\n",
    "            return False\n",
    "\n",
    "    def imgshow(im,sample_idx,z_idx):\n",
    "        f = plt.figure()\n",
    "        plt.imshow(im[sample_idx,0,z_idx,::])\n",
    "        plt.show()\n",
    "\n",
    "    def grad_cal(err,z1,z2,t):\n",
    "        err = torch.Tensor([err])\n",
    "        grad = err * (-z1*torch.sin(t)+z2*torch.cos(t))\n",
    "        return torch.mean(grad)\n",
    "\n",
    "    def grad_update(grad,t,eta):\n",
    "        t -= eta*grad\n",
    "        return t\n",
    "\n",
    "    def compound_vec(z1,z2,t):\n",
    "        z_n = z1*torch.cos(t) + z2*torch.sin(t)\n",
    "        return z_n\n",
    "\n",
    "    def forward_img(z_n,gen):\n",
    "        gen.eval()\n",
    "        img = gen(z_n)\n",
    "        return img[0,0,::]\n",
    "\n",
    "    z_n = torch.randn(1,200)\n",
    "    t = torch.Tensor([0.5])\n",
    "    err_list_phi = []\n",
    "    err_list_k = []\n",
    "    eta = 0.1\n",
    "\n",
    "    for i in range(epoch):\n",
    "        z2 = torch.randn(1,200)\n",
    "        z_n = compound_vec(z_n,z2,t)\n",
    "        img = forward_img(z_n,gen)\n",
    "        img = tensor_process(img)\n",
    "        phi_pred = img_prc.phi(img)\n",
    "        eul_pred = img_prc.eul(img)\n",
    "        # k_pred = kabs_sim(img)\n",
    "        err_phi = phi_pred - phi_target\n",
    "        err_eul = eul_pred - eul_target\n",
    "        print(f'Epoch {i}, error eul: {err_eul}')\n",
    "        print(f'Epoch {i}, error phi: {err_phi}')\n",
    "\n",
    "        grad_t_phi = grad_cal(err_phi,z_n,z2,t)\n",
    "        grad_t_k = grad_cal(err_eul/80,z_n,z2,t)\n",
    "\n",
    "        err_phi_a = abs(err_phi)\n",
    "        err_eul_a = abs(err_eul)\n",
    "        \n",
    "        t = grad_update(grad_t_phi + grad_t_k,t,eta)\n",
    "        z_n = compound_vec(z_n,z2,t)\n",
    "\n",
    "        if ((err_phi_a<0.02) & (err_eul_a<10)):\n",
    "            return z_n, phi_pred, eul_pred\n",
    "        \n",
    "    return z_n,phi_pred,eul_pred\n"
   ]
  },
  {
   "cell_type": "code",
   "execution_count": null,
   "metadata": {},
   "outputs": [],
   "source": [
    "target_phi = [i/100 for i in range(15,30,2)]\n",
    "target_eul = [50,30,10,-10,-30,-50,-70,-90]\n",
    "z_list = []\n",
    "pred_phi_rs = []\n",
    "pred_eul_rs = []"
   ]
  },
  {
   "cell_type": "code",
   "execution_count": null,
   "metadata": {},
   "outputs": [],
   "source": [
    "for i,j in zip(target_phi,target_eul):\n",
    "    z_tmp,pred_phi_tmp,pred_eul_tmp = multivar_opt(i,j)\n",
    "    z_list.append(z_tmp)\n",
    "    pred_phi_rs.append(pred_phi_tmp)\n",
    "    pred_eul_rs.append(pred_eul_tmp)"
   ]
  },
  {
   "cell_type": "code",
   "execution_count": null,
   "metadata": {},
   "outputs": [],
   "source": [
    "z = torch.randn(10,200)\n",
    "k_list = []\n",
    "f_image = gen(z)\n",
    "f_image = img_filter(tensor_process(f_image))"
   ]
  },
  {
   "cell_type": "code",
   "execution_count": null,
   "metadata": {},
   "outputs": [],
   "source": [
    "phi_list = []\n",
    "eul_list = []\n",
    "\n",
    "for i in range(len(f_image)):\n",
    "    phi_list.append( img_prc.phi(f_image[i][0,::]) )\n",
    "    eul_list.append( img_prc.eul(f_image[i][0,::]) )"
   ]
  }
 ],
 "metadata": {
  "kernelspec": {
   "display_name": "pnm-old",
   "language": "python",
   "name": "python3"
  },
  "language_info": {
   "codemirror_mode": {
    "name": "ipython",
    "version": 3
   },
   "file_extension": ".py",
   "mimetype": "text/x-python",
   "name": "python",
   "nbconvert_exporter": "python",
   "pygments_lexer": "ipython3",
   "version": "3.9.12"
  },
  "orig_nbformat": 4
 },
 "nbformat": 4,
 "nbformat_minor": 2
}
