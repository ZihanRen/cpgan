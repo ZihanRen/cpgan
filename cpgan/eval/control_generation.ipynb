{
 "cells": [
  {
   "cell_type": "code",
   "execution_count": 1,
   "metadata": {},
   "outputs": [],
   "source": [
    "import torch\n",
    "import os\n",
    "import matplotlib.pyplot as plt\n",
    "import numpy as np\n",
    "from cpgan import init_yaml\n",
    "from cpgan.eval.models_lib.ex6 import generator\n",
    "import pandas as pd\n",
    "from cpgan.ooppnm import img_process\n",
    "from cpgan.ooppnm import pnm_sim\n",
    "import random\n",
    "import porespy as ps\n",
    "from cpgan.eval.util import z_perturb\n",
    "import pickle\n",
    "from cpgan.ooppnm import pnm_sim_boundary\n",
    "from cpgan.ooppnm import pnm_sim_old\n",
    "\n",
    "import sys\n",
    "import io\n",
    "\n",
    "class SuppressPrint:\n",
    "    def __enter__(self):\n",
    "        self._original_stdout = sys.stdout\n",
    "        sys.stdout = io.StringIO()\n",
    "        return self\n",
    "\n",
    "    def __exit__(self, exc_type, exc_val, exc_tb):\n",
    "        sys.stdout = self._original_stdout\n",
    "\n",
    "\n",
    "\n",
    "f_yaml = init_yaml.yaml_f\n",
    "img_prc = img_process.Image_process()\n",
    "\n",
    "def load_gan(ex,epoch):\n",
    "    f_yaml = init_yaml.yaml_f\n",
    "    gen_path = os.path.join(f_yaml['model'],\"ex{}/cganex{}-{}.pth\".format(ex,ex,epoch))\n",
    "    gen = generator.Generator(z_dim=200)\n",
    "    gen.load_state_dict(torch.load(gen_path,map_location=torch.device('cpu')))\n",
    "    gen.eval()\n",
    "    return gen\n",
    "\n",
    "def z_to_img(z,gen):\n",
    "    img = img_prc.clean_img_filt( gen(z) )[0]\n",
    "    return img"
   ]
  },
  {
   "cell_type": "markdown",
   "metadata": {},
   "source": [
    "#### Control porosity generation"
   ]
  },
  {
   "cell_type": "code",
   "execution_count": 2,
   "metadata": {},
   "outputs": [
    {
     "name": "stdout",
     "output_type": "stream",
     "text": [
      "Epoch 0, error: 0.019000816345214833\n",
      "Epoch 1, error: 0.05103187561035155\n",
      "Epoch 2, error: 0.05421190261840819\n",
      "Epoch 3, error: 0.030283737182617176\n",
      "Epoch 4, error: 0.02573423385620116\n",
      "Epoch 5, error: 0.046705055236816395\n",
      "Epoch 6, error: 0.03999071121215819\n",
      "Epoch 7, error: 0.059111881256103505\n",
      "Epoch 8, error: 0.05529146194458007\n",
      "Epoch 9, error: 0.05112295150756835\n",
      "Epoch 10, error: 0.05167846679687499\n",
      "Epoch 11, error: 0.04166297912597655\n",
      "Epoch 12, error: 0.03694753646850585\n",
      "Epoch 13, error: 0.010168361663818348\n",
      "Epoch 14, error: 0.004305648803710926\n",
      "epoch:  14\n",
      "phi:  0.19919586181640625 target phi:  0.2\n"
     ]
    }
   ],
   "source": [
    "ex = 6\n",
    "epoch_gan = 15\n",
    "\n",
    "# load model and features\n",
    "gen = load_gan(ex,epoch_gan)\n",
    "phys_func = img_prc.phi\n",
    "\n",
    "target_phi = 0.2\n",
    "\n",
    "opt = z_perturb.Z_perturb(gen,phys_func,target_phi)\n",
    "z,_,_,epoch = opt.optimize(100,0.01,eta=0.5)\n",
    "print(\"epoch: \",epoch)\n",
    "img = z_to_img(z,gen) > 0.5\n",
    "print(\"phi: \",img_prc.phi(img), \"target phi: \",target_phi)\n"
   ]
  },
  {
   "cell_type": "code",
   "execution_count": 11,
   "metadata": {},
   "outputs": [],
   "source": [
    "\n"
   ]
  },
  {
   "cell_type": "markdown",
   "metadata": {},
   "source": [
    "#### Control absolute perm generation"
   ]
  },
  {
   "cell_type": "code",
   "execution_count": 13,
   "metadata": {},
   "outputs": [
    {
     "name": "stdout",
     "output_type": "stream",
     "text": [
      "Epoch 0, error: 168.01128843209773\n",
      "Epoch 1, error: 187.5558705194042\n",
      "Epoch 2, error: 210.38942895991823\n",
      "Epoch 3, error: 39.826855572736605\n",
      "Epoch 4, error: 38.24628988993186\n",
      "Epoch 5, error: 66.80238781233393\n",
      "Epoch 6, error: 62.25047341997916\n",
      "Epoch 7, error: 484.6483449992146\n",
      "Epoch 8, error: 269.24168195718187\n",
      "Epoch 9, error: 314.45000203494584\n",
      "Epoch 10, error: 223.48036093730315\n",
      "Epoch 11, error: 115.18369232806583\n",
      "Epoch 12, error: 147.5022637205078\n",
      "Epoch 13, error: 138.75083035613514\n",
      "Epoch 14, error: 251.61061924860633\n",
      "Epoch 15, error: 430.5709475899389\n",
      "Epoch 16, error: 309.09637930237847\n",
      "Epoch 17, error: 26.13241675587325\n",
      "Epoch 18, error: 287.23692143945146\n",
      "Epoch 19, error: 237.36378903364852\n",
      "Epoch 20, error: 309.87783109072745\n",
      "Epoch 21, error: 39.44631090338089\n",
      "Epoch 22, error: 365.4442369500993\n",
      "Epoch 23, error: -66.64892097231832\n",
      "Epoch 24, error: -73.88506576856791\n",
      "Epoch 25, error: 33.52929040048244\n",
      "Epoch 26, error: 141.79771817862115\n",
      "Epoch 27, error: 152.69850854797582\n",
      "Epoch 28, error: 24.212605323897336\n",
      "Epoch 29, error: 24.68607272597683\n",
      "Epoch 30, error: -40.65889777718747\n",
      "Epoch 31, error: -72.17035145442429\n",
      "Epoch 32, error: -98.95779614662572\n",
      "Epoch 33, error: 71.59923369081366\n",
      "Epoch 34, error: -30.722301090450486\n",
      "Epoch 35, error: -33.579651061969344\n",
      "Epoch 36, error: -67.20776165797744\n",
      "Epoch 37, error: -61.49214228626941\n",
      "Epoch 38, error: 249.9567127401295\n",
      "Epoch 39, error: -92.22649493764362\n",
      "Epoch 41, error: -12.714917777141807\n",
      "epoch:  41\n",
      "k:  94.78963794910278 target k:  100\n"
     ]
    }
   ],
   "source": [
    "def kabs_sim(img):\n",
    "    with SuppressPrint():   \n",
    "        data_pnm = pnm_sim_old.Pnm_sim(im=img)\n",
    "        data_pnm.network_extract()\n",
    "        if data_pnm.error == 1:\n",
    "            print('Error in network extraction')\n",
    "            return None\n",
    "        data_pnm.init_physics()\n",
    "        data_pnm.get_absolute_perm()\n",
    "        kabs = data_pnm.data_tmp['kabs']\n",
    "        data_pnm.close_ws()\n",
    "    return kabs\n",
    "\n",
    "\n",
    "\n",
    "target_k = 100\n",
    "ex = 6\n",
    "epoch_gan = 15\n",
    "\n",
    "# load model and features\n",
    "gen = load_gan(ex,epoch_gan)\n",
    "opt = z_perturb.Z_perturb(gen,kabs_sim,target_k)\n",
    "z,_,_,epoch = opt.optimize(100,15,eta=0.5)\n",
    "print(\"epoch: \",epoch)\n",
    "img = z_to_img(z,gen) > 0.5\n",
    "print(\"k: \",kabs_sim(img), \"target k: \",target_k)\n",
    "\n"
   ]
  },
  {
   "cell_type": "markdown",
   "metadata": {},
   "source": [
    "#### Control mean pore size generation"
   ]
  },
  {
   "cell_type": "code",
   "execution_count": null,
   "metadata": {},
   "outputs": [],
   "source": [
    "def psd_sim(img):\n",
    "    data_pnm = pnm_sim.Pnm_sim(im=img)\n",
    "    psd, _ = data_pnm.network_extract()\n",
    "    return psd\n"
   ]
  },
  {
   "cell_type": "markdown",
   "metadata": {},
   "source": [
    "#### Control mean Throat size generation"
   ]
  },
  {
   "cell_type": "markdown",
   "metadata": {},
   "source": []
  }
 ],
 "metadata": {
  "kernelspec": {
   "display_name": "pnm-old",
   "language": "python",
   "name": "python3"
  },
  "language_info": {
   "codemirror_mode": {
    "name": "ipython",
    "version": 3
   },
   "file_extension": ".py",
   "mimetype": "text/x-python",
   "name": "python",
   "nbconvert_exporter": "python",
   "pygments_lexer": "ipython3",
   "version": "3.9.12"
  }
 },
 "nbformat": 4,
 "nbformat_minor": 2
}
