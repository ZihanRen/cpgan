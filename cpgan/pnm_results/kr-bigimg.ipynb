{
 "cells": [
  {
   "cell_type": "code",
   "execution_count": 1,
   "metadata": {},
   "outputs": [],
   "source": [
    "import os\n",
    "import matplotlib.pyplot as plt\n",
    "import numpy as np\n",
    "from cpgan import init_yaml\n",
    "import pandas as pd\n",
    "from cpgan.ooppnm import img_process\n",
    "from cpgan.ooppnm import pnm_sim\n",
    "import porespy as ps\n",
    "import pickle\n",
    "\n",
    "def kr_plot(df,color):\n",
    "    plt.plot(1-df['snw'],df['kr_air'],c=color,marker='o',markersize=5)\n",
    "    plt.plot(1-df['snw'],df['kr_water'],c=color,marker='o',markersize=5)\n",
    "    plt.xlim([0,1])\n",
    "    plt.ylim([0,1])\n",
    "\n",
    "def kr_plot_drinage(df,color):\n",
    "    plt.plot(df['snw'],df['kr_air'],c=color,marker='o',markersize=5)\n",
    "    plt.xlim([0,1])\n",
    "    plt.ylim([0,1])\n",
    "\n",
    "def kr_scatter(df,color):\n",
    "    plt.scatter(1-df['snw'],df['kr_air'],c=color,marker='o',s=5)\n",
    "    plt.scatter(1-df['snw'],df['kr_water'],c=color,marker='o',s=5)\n",
    "    plt.xlim([0,1])\n",
    "    plt.ylim([0,1])\n",
    "\n",
    "def kr_process(df):\n",
    "    # df = df[ ( (df['krw']>0.03) & (df['krw']<0.99) & (df['krnw']>0.001) )]\n",
    "    df = df[ ( (df['kr_air']<0.999) & (df['kr_air']>1e-3) )]\n",
    "    return df"
   ]
  },
  {
   "attachments": {},
   "cell_type": "markdown",
   "metadata": {},
   "source": [
    "* analyze the PNM"
   ]
  },
  {
   "cell_type": "code",
   "execution_count": 2,
   "metadata": {},
   "outputs": [],
   "source": [
    "with open('save_obj/ibm11/kr-big.pkl','rb') as f:\n",
    "    kr_real_berea = pickle.load(f)\n",
    "# with open('save_obj/ip-big.pkl','rb') as f:\n",
    "#     ip_real = pickle.load(f)\n",
    "with open('save_obj/ibm11/kr-big-ben.pkl','rb') as f:\n",
    "    kr_real_ben = pickle.load(f)\n",
    "\n",
    "with open('save_obj/ibm11/kr-big-bg.pkl','rb') as f:\n",
    "    kr_real_bg = pickle.load(f)\n",
    "\n",
    "with open('save_obj/ibm11/kr-big-pk.pkl','rb') as f:\n",
    "    kr_real_pk = pickle.load(f)\n",
    "\n",
    "\n",
    "with open('save_obj/ibm11/kr-bd-pk.pkl','rb') as f:\n",
    "    kr_bd_pk = pickle.load(f)\n",
    "\n",
    "with open('save_obj/ibm11/kr-bd-bg.pkl','rb') as f:\n",
    "    kr_bd_bg = pickle.load(f)\n",
    "\n",
    "with open('save_obj/ibm11/kr-bd-berea.pkl','rb') as f:\n",
    "    kr_bd_berea = pickle.load(f)\n",
    "# with open('save_obj/ip-big-ben.pkl','rb') as f:\n",
    "#     ip_real_b = pickle.load(f)\n",
    "# with open('save_obj/kr-big-trap.pkl','rb') as f:\n",
    "#     kr_real_t = pickle.load(f)\n",
    "# with open('save_obj/kr-big-trap.pkl','rb') as f:\n",
    "#     ip_real_t = pickle.load(f)"
   ]
  },
  {
   "cell_type": "code",
   "execution_count": 5,
   "metadata": {},
   "outputs": [
    {
     "name": "stdout",
     "output_type": "stream",
     "text": [
      "[28.92299764]\n",
      "[103.35350311]\n",
      "[422.75040331]\n"
     ]
    }
   ],
   "source": [
    "print(kr_bd_pk['kabs'])\n",
    "print(kr_bd_bg['kabs'])\n",
    "print(kr_bd_berea['kabs'])\n"
   ]
  },
  {
   "cell_type": "code",
   "execution_count": 3,
   "metadata": {},
   "outputs": [],
   "source": [
    "def convert_seq(dict):\n",
    "    df = {}\n",
    "    df['sw'] = dict['sw']\n",
    "    df['snw'] = dict['snw']\n",
    "    df['kr_water'] = dict['kr_water']\n",
    "    df['kr_air'] = dict['kr_air']\n",
    "    df = pd.DataFrame(df)\n",
    "    return df"
   ]
  },
  {
   "cell_type": "code",
   "execution_count": null,
   "metadata": {},
   "outputs": [],
   "source": [
    "kr_bd_pk,kr_bd_bg,kr_bd_berea = convert_seq(kr_bd_pk),convert_seq(kr_bd_bg),convert_seq(kr_bd_berea)\n",
    "# kr_bd_pk,kr_bd_bg,kr_bd_berea = kr_process(kr_bd_pk),kr_process(kr_bd_bg),kr_process(kr_bd_berea)"
   ]
  },
  {
   "cell_type": "code",
   "execution_count": null,
   "metadata": {},
   "outputs": [],
   "source": [
    "f = plt.figure()\n",
    "kr_scatter(kr_bd_pk,color='r')\n",
    "kr_scatter(kr_bd_bg,color='b')\n",
    "kr_scatter(kr_bd_berea,color='g')"
   ]
  },
  {
   "attachments": {},
   "cell_type": "markdown",
   "metadata": {},
   "source": [
    "* without trapping"
   ]
  },
  {
   "cell_type": "code",
   "execution_count": null,
   "metadata": {},
   "outputs": [],
   "source": [
    "snwp, pc = ip_real[0],ip_real[1]\n",
    "f = plt.figure()\n",
    "plt.plot(1-snwp,pc, 'b-o')\n",
    "plt.xlabel('Water saturation')\n",
    "plt.ylabel('Capillary Pressure [Pa]')\n",
    "plt.xlim([0,1])\n",
    "plt.ylim([0,1e05])"
   ]
  },
  {
   "cell_type": "code",
   "execution_count": null,
   "metadata": {},
   "outputs": [],
   "source": [
    "f = plt.figure()\n",
    "kr_plot(kr_real_berea,color='b')\n",
    "kr_plot(kr_real_pk,color='r')"
   ]
  },
  {
   "attachments": {},
   "cell_type": "markdown",
   "metadata": {},
   "source": [
    "* requires the introduction of irreducible water saturation"
   ]
  },
  {
   "cell_type": "code",
   "execution_count": null,
   "metadata": {},
   "outputs": [],
   "source": [
    "# filter non physics\n",
    "kr_real = kr_real[ ((kr_real['krnw']>0.09) & (kr_real['krw']<0.98) & (kr_real['krw']>0.02)) ]\n",
    "kr_real_b = kr_real_b[ ((kr_real_b['krnw']>0.09) & (kr_real_b['krw']<0.98) & (kr_real_b['krw']>0.02)) ]\n",
    "\n",
    "f = plt.figure()\n",
    "plt.plot(1-kr_real['snwp'],kr_real['krnw'],c='r',marker='o',label='air')\n",
    "plt.plot(1-kr_real['snwp'],kr_real['krw'],c='b',marker='o',label='water')\n",
    "plt.xlabel('sw')\n",
    "plt.xlim([0,1])\n",
    "plt.ylim([0,1])\n",
    "plt.legend()"
   ]
  },
  {
   "cell_type": "code",
   "execution_count": null,
   "metadata": {},
   "outputs": [],
   "source": [
    "f = plt.figure()\n",
    "plt.plot(1-kr_real_t['snwp'],kr_real_t['krnw'],c='r',marker='o',label='air')\n",
    "plt.plot(1-kr_real_t['snwp'],kr_real_t['krw'],c='b',marker='o',label='water')\n",
    "plt.xlim([0,1])\n",
    "plt.ylim([0,1])\n",
    "plt.xlabel('sw')\n",
    "plt.legend()"
   ]
  },
  {
   "cell_type": "code",
   "execution_count": null,
   "metadata": {},
   "outputs": [],
   "source": []
  }
 ],
 "metadata": {
  "kernelspec": {
   "display_name": "pnm-new",
   "language": "python",
   "name": "python3"
  },
  "language_info": {
   "codemirror_mode": {
    "name": "ipython",
    "version": 3
   },
   "file_extension": ".py",
   "mimetype": "text/x-python",
   "name": "python",
   "nbconvert_exporter": "python",
   "pygments_lexer": "ipython3",
   "version": "3.9.12"
  },
  "orig_nbformat": 4,
  "vscode": {
   "interpreter": {
    "hash": "769950f749cf263e04e34dc3f2141dd64b68c6436fc98dadab253467171bd3e2"
   }
  }
 },
 "nbformat": 4,
 "nbformat_minor": 2
}
